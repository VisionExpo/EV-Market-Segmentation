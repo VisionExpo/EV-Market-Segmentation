{
 "cells": [
  {
   "cell_type": "code",
   "execution_count": 1,
   "id": "4c2ee69e",
   "metadata": {},
   "outputs": [],
   "source": [
    "import pandas as pd\n",
    "import matplotlib.pyplot as plt\n",
    "import seaborn as sns\n",
    "from sklearn.preprocessing import LabelEncoder, StandardScaler\n",
    "from sklearn.cluster import KMeans"
   ]
  },
  {
   "cell_type": "code",
   "execution_count": 2,
   "id": "b9a8a7ee",
   "metadata": {},
   "outputs": [],
   "source": [
    "sns.set(style=\"whitegrid\")"
   ]
  },
  {
   "cell_type": "code",
   "execution_count": null,
   "id": "379848ee",
   "metadata": {},
   "outputs": [
    {
     "name": "stderr",
     "output_type": "stream",
     "text": [
      "C:\\Users\\LOQ\\AppData\\Local\\Temp\\ipykernel_23876\\4185775366.py:5: DtypeWarning: Columns (1,4,10) have mixed types. Specify dtype option on import or set low_memory=False.\n",
      "  booking_data = pd.read_csv(\"C:/Vishal/EV-Market-Segmentation/data/raw/OLA Bookings/train.csv\")\n"
     ]
    }
   ],
   "source": [
    "ev_sales = pd.read_csv(\"C:/Vishal/EV-Market-Segmentation/data/raw/India-EV-Market/ev_sales_by_makers_and_cat_15-24.csv\")\n",
    "ev_data = pd.read_csv(\"C:/Vishal/EV-Market-Segmentation/data/raw/India-EV-Market/ev_cat_01-24.csv\")\n",
    "infra_data = pd.read_csv(\"C:/Vishal/EV-Market-Segmentation/data/raw/India-EV-Market/OperationalPC.csv\")\n",
    "vehicle_class_data = pd.read_csv(\"C:/Vishal/EV-Market-Segmentation/data/raw/India-EV-Market/Vehicle Class - All.csv\")\n",
    "booking_data = pd.read_csv(\"C:/Vishal/EV-Market-Segmentation/data/raw/OLA Bookings/train.csv\", )"
   ]
  },
  {
   "cell_type": "code",
   "execution_count": null,
   "id": "81ae57ca",
   "metadata": {},
   "outputs": [],
   "source": []
  }
 ],
 "metadata": {
  "kernelspec": {
   "display_name": "venv",
   "language": "python",
   "name": "python3"
  },
  "language_info": {
   "codemirror_mode": {
    "name": "ipython",
    "version": 3
   },
   "file_extension": ".py",
   "mimetype": "text/x-python",
   "name": "python",
   "nbconvert_exporter": "python",
   "pygments_lexer": "ipython3",
   "version": "3.10.0rc2"
  }
 },
 "nbformat": 4,
 "nbformat_minor": 5
}
