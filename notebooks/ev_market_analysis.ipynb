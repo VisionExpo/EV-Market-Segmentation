{
 "cells": [
  {
   "cell_type": "markdown",
   "metadata": {},
   "source": [
    "# EV Market Data Analysis\n",
    "This notebook implements the detailed analysis plan for the India EV Market datasets."
   ]
  },
  {
   "cell_type": "code",
   "execution_count": null,
   "metadata": {},
   "outputs": [],
   "source": [
    "# Import necessary libraries\n",
    "import pandas as pd\n",
    "import matplotlib.pyplot as plt\n",
    "import seaborn as sns\n",
    "import numpy as np\n",
    "import geopandas as gpd\n",
    "from datetime import datetime\n",
    "\n",
    "# Set plot style\n",
    "sns.set(style=\"whitegrid\")"
   ]
  },
  {
   "cell_type": "markdown",
   "metadata": {},
   "source": [
    "## 1. Data Loading and Cleaning"
   ]
  },
  {
   "cell_type": "code",
   "execution_count": null,
   "metadata": {},
   "outputs": [],
   "source": [
    "# Load datasets\n",
    "ev_maker_path = '../data/raw/India-EV-Market/EV Maker by Place.csv'\n",
    "ev_cat_path = '../data/raw/India-EV-Market/ev_cat_01-24.csv'\n",
    "ev_sales_path = '../data/raw/India-EV-Market/ev_sales_by_makers_and_cat_15-24.csv'\n",
    "operational_pc_path = '../data/raw/India-EV-Market/OperationalPC.csv'\n",
    "vehicle_class_path = '../data/raw/India-EV-Market/Vehicle Class - All.csv'\n",
    "\n",
    "ev_maker = pd.read_csv(ev_maker_path)\n",
    "ev_cat = pd.read_csv(ev_cat_path)\n",
    "ev_sales = pd.read_csv(ev_sales_path)\n",
    "operational_pc = pd.read_csv(operational_pc_path)\n",
    "vehicle_class = pd.read_csv(vehicle_class_path)\n",
    "\n",
    "# Clean Vehicle Class - All dataset: remove commas and convert to int\n",
    "vehicle_class['Total Registration'] = vehicle_class['Total Registration'].str.replace(',', '').astype(int)\n",
    "\n",
    "# Convert Date column in ev_cat to datetime\n",
    "ev_cat['Date'] = pd.to_datetime(ev_cat['Date'], errors='coerce', dayfirst=True)\n",
    "\n",
    "# Remove commas from ev_cat columns and convert to numeric\n",
    "for col in ev_cat.columns[1:]:\n",
    "    ev_cat[col] = pd.to_numeric(ev_cat[col], errors='coerce')\n",
    "\n",
    "# Preview cleaned data\n",
    "ev_maker.head(), ev_cat.head(), ev_sales.head(), operational_pc.head(), vehicle_class.head()"
   ]
  },
  {
   "cell_type": "markdown",
   "metadata": {},
   "source": [
    "## 2. Exploratory Data Analysis (EDA)"
   ]
  },
  {
   "cell_type": "code",
   "execution_count": null,
   "metadata": {},
   "outputs": [],
   "source": [
    "# EV Maker by Place: Distribution by State and Place\n",
    "plt.figure(figsize=(12,6))\n",
    "state_counts = ev_maker['State'].value_counts()\n",
    "sns.barplot(x=state_counts.index, y=state_counts.values, palette='viridis')\n",
    "plt.xticks(rotation=45)\n",
    "plt.title('Number of EV Makers by State')\n",
    "plt.ylabel('Count')\n",
    "plt.xlabel('State')\n",
    "plt.show()"
   ]
  },
  {
   "cell_type": "code",
   "execution_count": null,
   "metadata": {},
   "outputs": [],
   "source": [
    "# ev_cat_01-24: Trends of vehicle categories over time\n",
    "plt.figure(figsize=(14,8))\n",
    "for col in ev_cat.columns[1:6]:  # Plotting first 5 categories for clarity\n",
    "    plt.plot(ev_cat['Date'], ev_cat[col], label=col)\n",
    "plt.title('Trends of Vehicle Categories Over Time')\n",
    "plt.xlabel('Date')\n",
    "plt.ylabel('Count')\n",
    "plt.legend()\n",
    "plt.show()"
   ]
  },
  {
   "cell_type": "code",
   "execution_count": null,
   "metadata": {},
   "outputs": [],
   "source": [
    "# ev_sales_by_makers_and_cat_15-24: Top 10 makers by total sales\n",
    "ev_sales['Total Sales'] = ev_sales.loc[:, '2015':'2024'].sum(axis=1)\n",
    "top_makers = ev_sales.groupby('Maker')['Total Sales'].sum().sort_values(ascending=False).head(10)\n",
    "\n",
    "plt.figure(figsize=(12,6))\n",
    "sns.barplot(x=top_makers.values, y=top_makers.index, palette='magma')\n",
    "plt.title('Top 10 EV Makers by Total Sales (2015-2024)')\n",
    "plt.xlabel('Total Sales')\n",
    "plt.ylabel('Maker')\n",
    "plt.show()"
   ]
  },
  {
   "cell_type": "code",
   "execution_count": null,
   "metadata": {},
   "outputs": [],
   "source": [
    "# OperationalPC: Distribution by State\n",
    "plt.figure(figsize=(12,6))\n",
    "sns.barplot(x=operational_pc['State'], y=operational_pc['No. of Operational PCS'], palette='coolwarm')\n",
    "plt.xticks(rotation=45)\n",
    "plt.title('Number of Operational PCs by State')\n",
    "plt.ylabel('No. of Operational PCs')\n",
    "plt.xlabel('State')\n",
    "plt.show()"
   ]
  },
  {
   "cell_type": "code",
   "execution_count": null,
   "metadata": {},
   "outputs": [],
   "source": [
    "# Vehicle Class - All: Total Registrations by Vehicle Class\n",
    "plt.figure(figsize=(14,8))\n",
    "sns.barplot(x=vehicle_class['Vehicle Class'], y=vehicle_class['Total Registration'], palette='cubehelix')\n",
    "plt.xticks(rotation=90)\n",
    "plt.title('Total Registrations by Vehicle Class')\n",
    "plt.ylabel('Total Registration')\n",
    "plt.xlabel('Vehicle Class')\n",
    "plt.show()"
   ]
  },
  {
   "cell_type": "markdown",
   "metadata": {},
   "source": [
    "## 3. Combined Analysis\n",
    "Further combined analysis and correlation can be implemented based on these initial insights."
   ]
  }
 ],
 "metadata": {
  "kernelspec": {
   "display_name": "Python 3",
   "language": "python",
   "name": "python3"
  },
  "language_info": {
   "codemirror_mode": {
    "name": "ipython",
    "version": 3
   },
   "file_extension": ".py",
   "mimetype": "text/x-python",
   "name": "python",
   "nbconvert_exporter": "python",
   "pygments_lexer": "ipython3",
   "version": "3.9.12"
  }
 },
 "nbformat": 4,
 "nbformat_minor": 5
}
