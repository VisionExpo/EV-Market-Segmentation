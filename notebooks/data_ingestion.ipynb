{
 "cells": [
  {
   "cell_type": "code",
   "execution_count": null,
   "metadata": {},
   "outputs": [],
   "source": [
    "import kagglehub\n",
    "from pathlib import Path\n",
    "\n",
    "# Download dataset\n",
    "dataset_path = kagglehub.dataset_download(\"srinrealyf/india-ev-market-data\")\n",
    "print(f\"Dataset downloaded to: {dataset_path}\")\n",
    "\n",
    "# Create raw data directory\n",
    "raw_data_dir = Path('../data/raw')\n",
    "raw_data_dir.mkdir(parents=True, exist_ok=True)\n",
    "\n",
    "# Move downloaded data\n",
    "!cp -r {dataset_path}/* {raw_data_dir}/\n",
    "print(\"Data moved to raw directory:\", raw_data_dir.resolve())"
   ]
  }
 ],
 "metadata": {
  "kernelspec": {
   "display_name": "Python 3",
   "language": "python",
   "name": "python3"
  },
  "language_info": {
   "codemirror_mode": {
    "name": "ipython",
    "version": 3
   },
   "file_extension": ".py",
   "mimetype": "text/x-python",
   "name": "python",
   "nbconvert_exporter": "python",
   "pygments_lexer": "ipython3",
   "version": "3.11.5"
  }
 },
 "nbformat": 4,
 "nbformat_minor": 2
}
